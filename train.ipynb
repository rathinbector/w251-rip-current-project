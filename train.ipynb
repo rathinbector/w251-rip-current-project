{
  "nbformat": 4,
  "nbformat_minor": 0,
  "metadata": {
    "colab": {
      "name": "w251_final",
      "provenance": [],
      "collapsed_sections": []
    },
    "kernelspec": {
      "name": "python3",
      "display_name": "Python 3"
    },
    "language_info": {
      "name": "python"
    },
    "accelerator": "GPU"
  },
  "cells": [
    {
      "cell_type": "code",
      "metadata": {
        "colab": {
          "base_uri": "https://localhost:8080/"
        },
        "id": "ShHKfFuZGD3a",
        "outputId": "0e745abc-20f9-45f1-9b1a-80bb0ac849c9"
      },
      "source": [
        "from google.colab import drive\n",
        "drive.mount('/content/drive')"
      ],
      "execution_count": 1,
      "outputs": [
        {
          "output_type": "stream",
          "name": "stdout",
          "text": [
            "Mounted at /content/drive\n"
          ]
        }
      ]
    },
    {
      "cell_type": "code",
      "metadata": {
        "colab": {
          "base_uri": "https://localhost:8080/"
        },
        "id": "6-FLu5tQGGpj",
        "outputId": "be9949e5-912f-4875-ab64-48de6f1b1b9f"
      },
      "source": [
        "!git clone https://github.com/ultralytics/yolov5 -b classifier  # clone\n",
        "%cd yolov5\n",
        "%pip install -qr requirements.txt  # install\n",
        "\n",
        "from yolov5 import utils\n",
        "display = utils.notebook_init()  # checks"
      ],
      "execution_count": 2,
      "outputs": [
        {
          "output_type": "stream",
          "name": "stderr",
          "text": [
            "YOLOv5 🚀 v6.0-146-g9451512 torch 1.10.0+cu111 CUDA:0 (Tesla K80, 11441MiB)\n"
          ]
        },
        {
          "output_type": "stream",
          "name": "stdout",
          "text": [
            "Setup complete ✅\n"
          ]
        }
      ]
    },
    {
      "cell_type": "code",
      "metadata": {
        "colab": {
          "base_uri": "https://localhost:8080/"
        },
        "id": "riL5hB4JGoQ3",
        "outputId": "9a61c0c8-773e-400f-afdb-0de5c702a907"
      },
      "source": [
        "# train YOLOv5 with classify on full data for 100 epochs (64 img 128 batch rotate 90 no resize)\n",
        "!python classifier.py --epochs 100 --data drive/MyDrive/w251_final_data_class --model yolov5s --cache-images"
      ],
      "execution_count": 4,
      "outputs": [
        {
          "output_type": "stream",
          "name": "stdout",
          "text": [
            "\u001b[34m\u001b[1mgithub: \u001b[0mup to date with https://github.com/ultralytics/yolov5 ✅\n",
            "YOLOv5 🚀 v6.0-146-g9451512 torch 1.10.0+cu111 CUDA:0 (Tesla K80, 11441MiB)\n",
            "\n",
            "Training yolov5s on drive/MyDrive/w251_final_data_class dataset with 2 classes...\n",
            "Downloading: \"https://github.com/ultralytics/yolov5/archive/master.zip\" to /root/.cache/torch/hub/master.zip\n",
            "YOLOv5 🚀 v6.0-146-g9451512 torch 1.10.0+cu111 CUDA:0 (Tesla K80, 11441MiB)\n",
            "\n",
            "Downloading https://github.com/ultralytics/yolov5/releases/download/v6.0/yolov5s.pt to /root/.cache/torch/hub/ultralytics_yolov5_master/yolov5s.pt...\n",
            "100% 14.0M/14.0M [00:00<00:00, 17.9MB/s]\n",
            "\n",
            "Fusing layers... \n",
            "Model Summary: 213 layers, 7225885 parameters, 0 gradients\n",
            "/usr/local/lib/python3.7/dist-packages/thop/vision/basic_hooks.py:92: UserWarning: __floordiv__ is deprecated, and its behavior will change in a future version of pytorch. It currently rounds toward 0 (like the 'trunc' function NOT 'floor'). This results in incorrect rounding for negative values. To keep the current behavior, use torch.div(a, b, rounding_mode='trunc'), or for actual floor division, use torch.div(a, b, rounding_mode='floor').\n",
            "  kernel = torch.DoubleTensor([*(x[0].shape[2:])]) // torch.DoubleTensor(list((m.output_size,))).squeeze()\n",
            "Model Summary: 93 layers, 1149218 parameters, 1149218 gradients\n",
            "Image sizes 64 train, 64 test\n",
            "Using 2 dataloader workers\n",
            "Logging results to runs/train/exp\n",
            "Starting training for 100 epochs...\n",
            "\n",
            "epoch     gpu_mem   train_loss  val_loss    accuracy    \n",
            "1/100     0.388G    0.484       0.575       0.722       : 100% 18/18 [17:00<00:00, 56.71s/it] \n",
            "2/100     0.388G    0.148       0.415       0.834       : 100% 18/18 [01:08<00:00,  3.78s/it]\n",
            "3/100     0.388G    0.0682      0.602       0.683       : 100% 18/18 [01:07<00:00,  3.77s/it]\n",
            "4/100     0.388G    0.0418      0.409       0.83        : 100% 18/18 [01:07<00:00,  3.72s/it]\n",
            "5/100     0.388G    0.701       0.89        0.468       : 100% 18/18 [01:07<00:00,  3.77s/it]\n",
            "6/100     0.388G    0.667       0.671       0.521       : 100% 18/18 [01:06<00:00,  3.70s/it]\n",
            "7/100     0.388G    0.579       0.691       0.555       : 100% 18/18 [01:06<00:00,  3.69s/it]\n",
            "8/100     0.388G    0.448       0.583       0.636       : 100% 18/18 [01:06<00:00,  3.69s/it]\n",
            "9/100     0.388G    0.223       0.415       0.781       : 100% 18/18 [01:06<00:00,  3.69s/it]\n",
            "10/100    0.388G    0.159       0.254       0.923       : 100% 18/18 [01:05<00:00,  3.65s/it]\n",
            "11/100    0.388G    0.106       0.249       0.893       : 100% 18/18 [01:06<00:00,  3.67s/it]\n",
            "12/100    0.388G    0.0865      1.42        0.538       : 100% 18/18 [01:08<00:00,  3.81s/it]\n",
            "13/100    0.388G    0.228       0.287       0.915       : 100% 18/18 [01:08<00:00,  3.78s/it]\n",
            "14/100    0.388G    0.085       0.301       0.868       : 100% 18/18 [01:07<00:00,  3.77s/it]\n",
            "15/100    0.388G    0.0486      0.228       0.901       : 100% 18/18 [01:08<00:00,  3.80s/it]\n",
            "16/100    0.388G    0.0426      0.285       0.891       : 100% 18/18 [01:08<00:00,  3.80s/it]\n",
            "17/100    0.388G    0.0225      0.595       0.804       : 100% 18/18 [01:08<00:00,  3.82s/it]\n",
            "18/100    0.388G    0.0187      0.554       0.787       : 100% 18/18 [01:08<00:00,  3.82s/it]\n",
            "19/100    0.388G    0.0123      0.385       0.847       : 100% 18/18 [01:08<00:00,  3.80s/it]\n",
            "20/100    0.39G     0.0109      0.331       0.86        : 100% 18/18 [01:08<00:00,  3.82s/it]\n",
            "21/100    0.39G     0.00403     0.498       0.872       : 100% 18/18 [01:08<00:00,  3.81s/it]\n",
            "22/100    0.39G     0.00157     0.479       0.879       : 100% 18/18 [01:08<00:00,  3.78s/it]\n",
            "23/100    0.39G     0.000943    0.471       0.882       : 100% 18/18 [01:07<00:00,  3.78s/it]\n",
            "24/100    0.39G     0.000688    0.413       0.891       : 100% 18/18 [01:08<00:00,  3.80s/it]\n",
            "25/100    0.39G     0.000528    0.506       0.877       : 100% 18/18 [01:08<00:00,  3.80s/it]\n",
            "26/100    0.39G     0.000431    0.49        0.882       : 100% 18/18 [01:08<00:00,  3.79s/it]\n",
            "27/100    0.39G     0.000369    0.532       0.877       : 100% 18/18 [01:08<00:00,  3.81s/it]\n",
            "28/100    0.39G     0.000316    0.479       0.886       : 100% 18/18 [01:08<00:00,  3.82s/it]\n",
            "29/100    0.39G     0.000279    0.523       0.88        : 100% 18/18 [01:08<00:00,  3.83s/it]\n",
            "30/100    0.39G     0.000253    0.532       0.879       : 100% 18/18 [01:08<00:00,  3.83s/it]\n",
            "31/100    0.39G     0.000244    0.543       0.877       : 100% 18/18 [01:08<00:00,  3.80s/it]\n",
            "32/100    0.39G     0.000209    0.551       0.875       : 100% 18/18 [01:09<00:00,  3.85s/it]\n",
            "33/100    0.39G     0.000196    0.526       0.883       : 100% 18/18 [01:08<00:00,  3.81s/it]\n",
            "34/100    0.39G     0.000185    0.545       0.879       : 100% 18/18 [01:07<00:00,  3.75s/it]\n",
            "35/100    0.39G     0.000168    0.532       0.882       : 100% 18/18 [01:08<00:00,  3.82s/it]\n",
            "36/100    0.39G     0.000163    0.547       0.879       : 100% 18/18 [01:09<00:00,  3.85s/it]\n",
            "37/100    0.39G     0.000154    0.547       0.88        : 100% 18/18 [01:09<00:00,  3.84s/it]\n",
            "38/100    0.39G     0.000146    0.566       0.877       : 100% 18/18 [01:09<00:00,  3.87s/it]\n",
            "39/100    0.39G     0.000137    0.553       0.88        : 100% 18/18 [01:09<00:00,  3.85s/it]\n",
            "40/100    0.39G     0.000128    0.566       0.879       : 100% 18/18 [01:08<00:00,  3.83s/it]\n",
            "41/100    0.39G     0.000122    0.56        0.879       : 100% 18/18 [01:09<00:00,  3.84s/it]\n",
            "42/100    0.39G     0.000129    :  44% 8/18 [00:26<00:27,  2.79s/it]Traceback (most recent call last):\n",
            "  File \"/usr/local/lib/python3.7/dist-packages/tqdm/std.py\", line 1180, in __iter__\n",
            "    for obj in iterable:\n",
            "  File \"/usr/local/lib/python3.7/dist-packages/torch/utils/data/dataloader.py\", line 521, in __next__\n",
            "    data = self._next_data()\n",
            "  File \"/usr/local/lib/python3.7/dist-packages/torch/utils/data/dataloader.py\", line 1186, in _next_data\n",
            "    idx, data = self._get_data()\n",
            "  File \"/usr/local/lib/python3.7/dist-packages/torch/utils/data/dataloader.py\", line 1152, in _get_data\n",
            "    success, data = self._try_get_data()\n",
            "  File \"/usr/local/lib/python3.7/dist-packages/torch/utils/data/dataloader.py\", line 990, in _try_get_data\n",
            "    data = self._data_queue.get(timeout=timeout)\n",
            "  File \"/usr/lib/python3.7/multiprocessing/queues.py\", line 104, in get\n",
            "    if not self._poll(timeout):\n",
            "  File \"/usr/lib/python3.7/multiprocessing/connection.py\", line 257, in poll\n",
            "    return self._poll(timeout)\n",
            "  File \"/usr/lib/python3.7/multiprocessing/connection.py\", line 414, in _poll\n",
            "    r = wait([self], timeout)\n",
            "  File \"/usr/lib/python3.7/multiprocessing/connection.py\", line 921, in wait\n",
            "    ready = selector.select(timeout)\n",
            "  File \"/usr/lib/python3.7/selectors.py\", line 415, in select\n",
            "    fd_event_list = self._selector.poll(timeout)\n",
            "KeyboardInterrupt\n",
            "\n",
            "During handling of the above exception, another exception occurred:\n",
            "\n",
            "Traceback (most recent call last):\n",
            "  File \"classifier.py\", line 270, in <module>\n",
            "    train()\n",
            "  File \"classifier.py\", line 155, in train\n",
            "    for i, (images, labels) in pbar:\n",
            "  File \"/usr/local/lib/python3.7/dist-packages/tqdm/std.py\", line 1195, in __iter__\n",
            "    self.close()\n",
            "  File \"/usr/local/lib/python3.7/dist-packages/tqdm/std.py\", line 1301, in close\n",
            "    self.display(pos=0)\n",
            "  File \"/usr/local/lib/python3.7/dist-packages/tqdm/std.py\", line 1494, in display\n",
            "    self.sp(self.__str__() if msg is None else msg)\n",
            "  File \"/usr/local/lib/python3.7/dist-packages/tqdm/std.py\", line 349, in print_status\n",
            "    len_s = disp_len(s)\n",
            "  File \"/usr/local/lib/python3.7/dist-packages/tqdm/utils.py\", line 338, in disp_len\n",
            "    return _text_width(RE_ANSI.sub('', data))\n",
            "  File \"/usr/local/lib/python3.7/dist-packages/tqdm/utils.py\", line 330, in _text_width\n",
            "    return sum(2 if east_asian_width(ch) in 'FW' else 1 for ch in _unicode(s))\n",
            "  File \"/usr/local/lib/python3.7/dist-packages/tqdm/utils.py\", line 330, in <genexpr>\n",
            "    return sum(2 if east_asian_width(ch) in 'FW' else 1 for ch in _unicode(s))\n",
            "KeyboardInterrupt\n"
          ]
        }
      ]
    },
    {
      "cell_type": "code",
      "metadata": {
        "colab": {
          "base_uri": "https://localhost:8080/"
        },
        "id": "muaST8UAQL69",
        "outputId": "3aefb4f9-c88e-49b5-f735-046b97872bd1"
      },
      "source": [
        "!python detect.py --source ../drive/MyDrive/double_check.mp4 --weights ../drive/MyDrive/best.pt --imgsz 64"
      ],
      "execution_count": 4,
      "outputs": [
        {
          "output_type": "stream",
          "name": "stdout",
          "text": [
            "\u001b[34m\u001b[1mdetect: \u001b[0mweights=../drive/MyDrive/best.pt, source=../drive/MyDrive/double_check.mp4, imgsz=[64, 64], conf_thres=0.25, iou_thres=0.45, max_det=1000, device=, view_img=False, save_txt=False, save_conf=False, save_crop=False, nosave=False, classes=None, agnostic_nms=False, augment=False, visualize=False, update=False, project=runs/detect, name=exp, exist_ok=False, line_thickness=3, hide_labels=False, hide_conf=False, half=False, dnn=False\n",
            "YOLOv5 🚀 v6.0-146-g9451512 torch 1.10.0+cu111 CUDA:0 (Tesla K80, 11441MiB)\n",
            "\n",
            "Speed: 0.6ms pre-process, 7.9ms inference per image at shape (1, 3, 64, 64)\n",
            "Results saved to \u001b[1mruns/detect/exp2\u001b[0m\n"
          ]
        }
      ]
    },
    {
      "cell_type": "code",
      "metadata": {
        "id": "dBfVAslmijuf"
      },
      "source": [
        ""
      ],
      "execution_count": null,
      "outputs": []
    }
  ]
}